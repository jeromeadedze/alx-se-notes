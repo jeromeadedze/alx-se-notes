{
 "cells": [
  {
   "cell_type": "markdown",
   "id": "46d98e6b",
   "metadata": {},
   "source": [
    "## Functions\n",
    "\n",
    "A function is a block of code that performs a specific task.\n",
    "\n",
    "Suppose, you need to create a program to create a circle and color it. You can create two functions to solve this problem:\n",
    "\n",
    "- create a circle function\n",
    "- create a color function\n",
    "\n",
    "Dividing a complex problem into smaller chunks makes our program easy to understand and reuse\n",
    "\n",
    "### Types of function\n",
    "\n",
    "There are two types of function in C programming:\n",
    "\n",
    "### Standard library functions\n",
    "\n",
    "The standard library functions are built-in functions in C programming.\n",
    "\n",
    "These functions are defined in header files. \n",
    "\n",
    "For example,\n",
    "\n",
    "- The `printf()`, This function is defined in the `stdio.h` header file.\n",
    "Hence, to use the `printf()` function, we need to include the `stdio.h` header file using `#include <stdio.h>`\n",
    "- The `sqrt()` function calculates the square root of a number. The function is defined in the `math.h` header file.  \n",
    "\n",
    "### User-defined functions\n",
    "\n",
    "Functions created by the user are known as ***user-defined functions.***\n",
    "\n",
    "### Syntax for defining a function:\n",
    "\n",
    "`return_type function_name( parameters ) \n",
    "{\n",
    "   body of the function\n",
    "}`\n",
    "\n",
    "- `Return Type` − A function may return a value. The return_type is the data type of the value the function returns. Some functions perform the desired operations without returning a value. In this case, the return_type is the keyword `void`.\n",
    "\n",
    "- `Function Name` − This is the actual name of the function. The function name and the parameter list together constitute the function signature.\n",
    "\n",
    "- `Parameters` − A parameter is like a placeholder. When a function is invoked, you pass a value to the parameter. This value is referred to as actual parameter or argument. Parameters are optional; that is, a function may contain no parameters.\n",
    "\n",
    "`Function Body` − The function body contains a collection of statements that define what the function does.\n",
    "\n",
    "\n",
    "#### Function Declarations:\n",
    "\n",
    "A function declaration tells the compiler about a function name and how to call the function. The actual body of the function can be defined separately.\n",
    "\n",
    "Syntax:\n",
    "\n",
    "`return_type function_name( parameters );`\n",
    "\n",
    "Function declaration is required when you define a function in one source file and you call that function in another file. In such case, you should declare the function at the top of the file calling the function.\n",
    "\n",
    "### How user-defined function works?\n",
    "\n"
   ]
  },
  {
   "cell_type": "code",
   "execution_count": null,
   "id": "96e196cb",
   "metadata": {},
   "outputs": [],
   "source": []
  }
 ],
 "metadata": {
  "kernelspec": {
   "display_name": "Python 3 (ipykernel)",
   "language": "python",
   "name": "python3"
  },
  "language_info": {
   "codemirror_mode": {
    "name": "ipython",
    "version": 3
   },
   "file_extension": ".py",
   "mimetype": "text/x-python",
   "name": "python",
   "nbconvert_exporter": "python",
   "pygments_lexer": "ipython3",
   "version": "3.9.13"
  }
 },
 "nbformat": 4,
 "nbformat_minor": 5
}
