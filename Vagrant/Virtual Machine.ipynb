{
 "cells": [
  {
   "cell_type": "markdown",
   "id": "3997b934",
   "metadata": {},
   "source": [
    "## Vagrant\n",
    "\n",
    "- What is Vagrant\n",
    "- Who wrote Vagrant\n",
    "- What is Ubuntu\n",
    "- What does “Ubuntu” mean\n",
    "- How to use VMs with Vagrant\n",
    "- What does the command uname do\n",
    "\n",
    "### Virtual Machine\n",
    "\n",
    "A virtual machine is a program you run on a computer that acts like it is a separate computer. It is basically a way to create a computer within a computer.\n",
    "\n",
    "For instance, if you are using a Mac computer you can run Windows programs inside a Windows virtual machine on the Mac computer. \n",
    "\n",
    "### Tools for creating virtual environments and machines\n",
    "\n",
    "VirtualBox and Vagrant"
   ]
  },
  {
   "cell_type": "markdown",
   "id": "a25d1122",
   "metadata": {},
   "source": [
    "### Virtual Machine\n",
    "\n",
    "https://www.freecodecamp.org/news/what-is-a-virtual-machine-and-how-to-setup-a-vm-on-windows-linux-and-mac/"
   ]
  },
  {
   "cell_type": "code",
   "execution_count": null,
   "id": "3f75b7ac",
   "metadata": {},
   "outputs": [],
   "source": []
  }
 ],
 "metadata": {
  "kernelspec": {
   "display_name": "Python 3 (ipykernel)",
   "language": "python",
   "name": "python3"
  },
  "language_info": {
   "codemirror_mode": {
    "name": "ipython",
    "version": 3
   },
   "file_extension": ".py",
   "mimetype": "text/x-python",
   "name": "python",
   "nbconvert_exporter": "python",
   "pygments_lexer": "ipython3",
   "version": "3.9.13"
  }
 },
 "nbformat": 4,
 "nbformat_minor": 5
}
