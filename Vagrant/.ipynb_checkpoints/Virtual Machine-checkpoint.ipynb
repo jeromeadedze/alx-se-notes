{
 "cells": [
  {
   "cell_type": "markdown",
   "id": "c0d5d6a3",
   "metadata": {},
   "source": [
    "## Vagrant\n",
    "\n",
    "- What is a virtual machine\n",
    "- What is Vagrant\n",
    "- Who wrote Vagrant\n",
    "- What is Ubuntu\n",
    "- What does “Ubuntu” mean\n",
    "- How to use VMs with Vagrant\n",
    "- What does the command uname do"
   ]
  },
  {
   "cell_type": "code",
   "execution_count": null,
   "id": "5711a7b0",
   "metadata": {},
   "outputs": [],
   "source": []
  }
 ],
 "metadata": {
  "kernelspec": {
   "display_name": "Python 3 (ipykernel)",
   "language": "python",
   "name": "python3"
  },
  "language_info": {
   "codemirror_mode": {
    "name": "ipython",
    "version": 3
   },
   "file_extension": ".py",
   "mimetype": "text/x-python",
   "name": "python",
   "nbconvert_exporter": "python",
   "pygments_lexer": "ipython3",
   "version": "3.9.13"
  }
 },
 "nbformat": 4,
 "nbformat_minor": 5
}
