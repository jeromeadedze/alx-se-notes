{
 "cells": [
  {
   "cell_type": "markdown",
   "id": "a0b91954",
   "metadata": {},
   "source": [
    "## The Developer Mindset\n",
    "\n",
    "https://www.youtube.com/watch?v=rWMuEIcdJP4&ab_channel=Codecademy\n",
    "<img src = \"img/developermindset.png\"\n",
    "     height= \"400px\"\n",
    "width= \"720px\">\n",
    "\n"
   ]
  },
  {
   "cell_type": "markdown",
   "id": "9d1805cb",
   "metadata": {},
   "source": [
    "## Flowchart\n",
    "\n",
    "### What is a Flowchart?\n",
    "\n",
    "A flowchart is simply a graphical representation of steps. It shows steps in sequential order and is widely used in presenting the flow of algorithms, workflow or processes.\n",
    "\n",
    "### Flowchart is used ..\n",
    "\n",
    "- To develop understanding of how a process is done\n",
    "- To study a process for improvement\n",
    "- To communicate to others how a process is done (non-developers and developers that do not know the language the process is written in)\n",
    "- To document a process and visualize ideas\n",
    "- To plan a project\n",
    "\n",
    "Similarly to pseudo-code, flowcharts provide another way of approaching and/or understanding a workflow.\n",
    "\n",
    "### Flowchart symbols:\n",
    "<img src = \"img/flowchartsymbols.png\"\n",
    "     height= \"400px\"\n",
    "width= \"720px\">\n",
    "<img src = \"img/flowchartsymbols1.png\"\n",
    "     height= \"400px\"\n",
    "width= \"720px\">\n",
    "\n",
    "\n",
    "<img src = \"img/flowchartdecision.png\"\n",
    "     height= \"400px\"\n",
    "width= \"720px\">"
   ]
  },
  {
   "cell_type": "markdown",
   "id": "72289f15",
   "metadata": {},
   "source": [
    "### Flowchart examples\n",
    "\n",
    "<img src = \"img/flowchartexample1.png\"\n",
    "     height= \"400px\"\n",
    "width= \"720px\">\n",
    "\n",
    "<img src = \"img/flowchartexample2.png\"\n",
    "     height= \"400px\"\n",
    "width= \"720px\">\n",
    "\n",
    "A helpful tool to create flowcharts is https://app.diagrams.net/. There are premade symbols for you to use and your diagrams can be saved to your Google Drive."
   ]
  },
  {
   "cell_type": "markdown",
   "id": "e29b5d65",
   "metadata": {},
   "source": [
    "### Pseucode\n",
    "\n",
    "A Pseudocode is a simple version of a programming code ***written in plain English*** before being implemented in a specific programming language.\n",
    "\n",
    "Pseudocode is basically like a sketch to a drawing.\n",
    "\n",
    "### Why use Pseudocode\n",
    "\n",
    "- Planning and designing processes: Pseudocode can be used to plan out the steps of a process, function, or algorithm, allowing developers to think through the logic and ensure that it’s correct before implementing it in a specific programming language.\n",
    "\n",
    "- Communicating ideas to non-technical stakeholders: Pseudocode can be used to clearly explain the steps of a process or algorithm to non-technical stakeholders, such as project managers or clients, in a way that allows them to grasp the concept easily.\n",
    "\n",
    "- Collaborating with a team: Pseudocode can be used as a common language for a team of developers to communicate and collaborate on a project, regardless of their individual programming expertise."
   ]
  },
  {
   "cell_type": "markdown",
   "id": "5728d3f4",
   "metadata": {},
   "source": [
    "## When attempting to solve coding problems..\n",
    "\n",
    "- Step 1: Understand and Analyze the Problem\n",
    "\n",
    "While going through the problem you need to ask a few questions yourself…\n",
    "\n",
    "Did you understand the problem fully? \n",
    "\n",
    "Would you be able to explain this question to someone else? \n",
    "\n",
    "What and how many inputs are required? \n",
    "\n",
    "What would be the output for those inputs \n",
    "\n",
    "Do you need to separate out some modules or parts from the problem? \n",
    "\n",
    "\n",
    "- Step 2: Go Through The Sample Data And Examples Thoroughly\n",
    "\n",
    "Consider some simple inputs or data and analyze the output. Consider some complex and bigger input and identify what will be the output and how many cases you need to take for the problem. Consider the edge cases as well.\n",
    "Analyze what would be the output if there is no input or if you give some invalid input\n",
    "\n",
    "- Step 3: Break Down The Problem\n",
    "\n",
    "Break down the problem into smaller chunks and then try to solve each part of the problem. \n",
    "\n",
    "This can be done using a flowchart.\n",
    "\n",
    "- Step 4: Write Pseudocode\n",
    "Before you jump into the solution it’s always good to write pseudocode for your problem. Basically, pseudocode defines the structure of your code and it will help you to write every line of code that you need in order to solve the problem. Reading pseudocode gives a clear idea that what your code is supposed to do.\n",
    "\n",
    "In the end, you will have to only translate each line of pseudocode into actual code. So write down every step and logic in your pseudocode\n",
    "\n",
    "- Step 5: Translate Pseudocode With Real Code\n",
    "\n",
    "- Step 6: Simplify and Optimize your Code\n",
    "\n",
    "Always try to improve your code. Look back, analyze it once again and try to find a better or alternate solution.\n",
    "\n",
    "Explore the problem completely with all possible solutions and then write down the most efficient or optimized solution for your code. So once you are done with writing the solution for your code below are some questions you should ask yourself.\n",
    "\n",
    "- Does this code run for every possible input including the edge cases.\n",
    "- Is there an alternate solution for the same problem?\n",
    "- Is the code efficient? Can it be more efficient or can the performance be improved?\n",
    "- How else can you make the code more readable?\n",
    "- Are there any more extra steps or functions you can take out?\n"
   ]
  },
  {
   "cell_type": "markdown",
   "id": "3bc54a96",
   "metadata": {},
   "source": [
    "### Links\n",
    "\n",
    "### Flowcharts\n",
    "https://www.zenflowchart.com/flowchart\n",
    "\n",
    "### Pseudocode\n",
    "https://www.freecodecamp.org/news/what-is-pseudocode-in-programming/"
   ]
  },
  {
   "cell_type": "code",
   "execution_count": null,
   "id": "41f96b40",
   "metadata": {},
   "outputs": [],
   "source": []
  }
 ],
 "metadata": {
  "kernelspec": {
   "display_name": "Python 3 (ipykernel)",
   "language": "python",
   "name": "python3"
  },
  "language_info": {
   "codemirror_mode": {
    "name": "ipython",
    "version": 3
   },
   "file_extension": ".py",
   "mimetype": "text/x-python",
   "name": "python",
   "nbconvert_exporter": "python",
   "pygments_lexer": "ipython3",
   "version": "3.9.13"
  }
 },
 "nbformat": 4,
 "nbformat_minor": 5
}
